{
  "nbformat": 4,
  "nbformat_minor": 0,
  "metadata": {
    "colab": {
      "name": "transformers-onnx-inference.ipynb",
      "provenance": [],
      "collapsed_sections": [],
      "toc_visible": true
    },
    "kernelspec": {
      "name": "python3",
      "display_name": "Python 3"
    },
    "accelerator": "GPU"
  },
  "cells": [
    {
      "cell_type": "code",
      "metadata": {
        "colab": {
          "base_uri": "https://localhost:8080/"
        },
        "id": "pud_fd06-0Ta",
        "outputId": "264f988b-98c7-49f2-b2b5-878461c9736f"
      },
      "source": [
        "!nvidia-smi"
      ],
      "execution_count": null,
      "outputs": [
        {
          "output_type": "stream",
          "text": [
            "Thu Feb 25 02:15:28 2021       \n",
            "+-----------------------------------------------------------------------------+\n",
            "| NVIDIA-SMI 460.39       Driver Version: 460.32.03    CUDA Version: 11.2     |\n",
            "|-------------------------------+----------------------+----------------------+\n",
            "| GPU  Name        Persistence-M| Bus-Id        Disp.A | Volatile Uncorr. ECC |\n",
            "| Fan  Temp  Perf  Pwr:Usage/Cap|         Memory-Usage | GPU-Util  Compute M. |\n",
            "|                               |                      |               MIG M. |\n",
            "|===============================+======================+======================|\n",
            "|   0  Tesla T4            Off  | 00000000:00:04.0 Off |                    0 |\n",
            "| N/A   40C    P8     9W /  70W |      0MiB / 15109MiB |      0%      Default |\n",
            "|                               |                      |                  N/A |\n",
            "+-------------------------------+----------------------+----------------------+\n",
            "                                                                               \n",
            "+-----------------------------------------------------------------------------+\n",
            "| Processes:                                                                  |\n",
            "|  GPU   GI   CI        PID   Type   Process name                  GPU Memory |\n",
            "|        ID   ID                                                   Usage      |\n",
            "|=============================================================================|\n",
            "|  No running processes found                                                 |\n",
            "+-----------------------------------------------------------------------------+\n"
          ],
          "name": "stdout"
        }
      ]
    },
    {
      "cell_type": "code",
      "metadata": {
        "colab": {
          "base_uri": "https://localhost:8080/"
        },
        "id": "Stf50Yrs_EOt",
        "outputId": "12b5ea8c-e318-4b8c-c058-879bd13923ac"
      },
      "source": [
        "!pip install transformers"
      ],
      "execution_count": null,
      "outputs": [
        {
          "output_type": "stream",
          "text": [
            "Requirement already satisfied: transformers in /usr/local/lib/python3.7/dist-packages (4.3.3)\n",
            "Requirement already satisfied: importlib-metadata; python_version < \"3.8\" in /usr/local/lib/python3.7/dist-packages (from transformers) (3.4.0)\n",
            "Requirement already satisfied: tqdm>=4.27 in /usr/local/lib/python3.7/dist-packages (from transformers) (4.41.1)\n",
            "Requirement already satisfied: numpy>=1.17 in /usr/local/lib/python3.7/dist-packages (from transformers) (1.20.1)\n",
            "Requirement already satisfied: tokenizers<0.11,>=0.10.1 in /usr/local/lib/python3.7/dist-packages (from transformers) (0.10.1)\n",
            "Requirement already satisfied: regex!=2019.12.17 in /usr/local/lib/python3.7/dist-packages (from transformers) (2019.12.20)\n",
            "Requirement already satisfied: sacremoses in /usr/local/lib/python3.7/dist-packages (from transformers) (0.0.43)\n",
            "Requirement already satisfied: filelock in /usr/local/lib/python3.7/dist-packages (from transformers) (3.0.12)\n",
            "Requirement already satisfied: requests in /usr/local/lib/python3.7/dist-packages (from transformers) (2.23.0)\n",
            "Requirement already satisfied: packaging in /usr/local/lib/python3.7/dist-packages (from transformers) (20.9)\n",
            "Requirement already satisfied: zipp>=0.5 in /usr/local/lib/python3.7/dist-packages (from importlib-metadata; python_version < \"3.8\"->transformers) (3.4.0)\n",
            "Requirement already satisfied: typing-extensions>=3.6.4; python_version < \"3.8\" in /usr/local/lib/python3.7/dist-packages (from importlib-metadata; python_version < \"3.8\"->transformers) (3.7.4.3)\n",
            "Requirement already satisfied: joblib in /usr/local/lib/python3.7/dist-packages (from sacremoses->transformers) (1.0.1)\n",
            "Requirement already satisfied: click in /usr/local/lib/python3.7/dist-packages (from sacremoses->transformers) (7.1.2)\n",
            "Requirement already satisfied: six in /usr/local/lib/python3.7/dist-packages (from sacremoses->transformers) (1.15.0)\n",
            "Requirement already satisfied: urllib3!=1.25.0,!=1.25.1,<1.26,>=1.21.1 in /usr/local/lib/python3.7/dist-packages (from requests->transformers) (1.24.3)\n",
            "Requirement already satisfied: chardet<4,>=3.0.2 in /usr/local/lib/python3.7/dist-packages (from requests->transformers) (3.0.4)\n",
            "Requirement already satisfied: certifi>=2017.4.17 in /usr/local/lib/python3.7/dist-packages (from requests->transformers) (2020.12.5)\n",
            "Requirement already satisfied: idna<3,>=2.5 in /usr/local/lib/python3.7/dist-packages (from requests->transformers) (2.10)\n",
            "Requirement already satisfied: pyparsing>=2.0.2 in /usr/local/lib/python3.7/dist-packages (from packaging->transformers) (2.4.7)\n"
          ],
          "name": "stdout"
        }
      ]
    },
    {
      "cell_type": "code",
      "metadata": {
        "colab": {
          "base_uri": "https://localhost:8080/"
        },
        "id": "Ckq-YA2M_c5P",
        "outputId": "20c12e30-221f-42e6-bf02-94c07e65a1f3"
      },
      "source": [
        "!pip install torch"
      ],
      "execution_count": null,
      "outputs": [
        {
          "output_type": "stream",
          "text": [
            "Requirement already satisfied: torch in /usr/local/lib/python3.7/dist-packages (1.7.0+cu101)\n",
            "Requirement already satisfied: future in /usr/local/lib/python3.7/dist-packages (from torch) (0.16.0)\n",
            "Requirement already satisfied: typing-extensions in /usr/local/lib/python3.7/dist-packages (from torch) (3.7.4.3)\n",
            "Requirement already satisfied: numpy in /usr/local/lib/python3.7/dist-packages (from torch) (1.20.1)\n",
            "Requirement already satisfied: dataclasses in /usr/local/lib/python3.7/dist-packages (from torch) (0.6)\n"
          ],
          "name": "stdout"
        }
      ]
    },
    {
      "cell_type": "code",
      "metadata": {
        "colab": {
          "base_uri": "https://localhost:8080/"
        },
        "id": "dlT7kiBa_mVx",
        "outputId": "7993afd2-64cc-4d24-b509-db875e2416a4"
      },
      "source": [
        "!pip install nvidia-pyindex"
      ],
      "execution_count": null,
      "outputs": [
        {
          "output_type": "stream",
          "text": [
            "Requirement already satisfied: nvidia-pyindex in /usr/local/lib/python3.7/dist-packages (1.0.6)\n"
          ],
          "name": "stdout"
        }
      ]
    },
    {
      "cell_type": "code",
      "metadata": {
        "colab": {
          "base_uri": "https://localhost:8080/"
        },
        "id": "pLflHJSO_uPp",
        "outputId": "0324324c-a65c-4edf-d7a3-e2fd010578e4"
      },
      "source": [
        "!pip install --extra-index-url https://pypi.ngc.nvidia.com nvidia-tensorrt "
      ],
      "execution_count": null,
      "outputs": [
        {
          "output_type": "stream",
          "text": [
            "Looking in indexes: https://pypi.org/simple, https://pypi.ngc.nvidia.com\n",
            "Requirement already satisfied: nvidia-tensorrt in /usr/local/lib/python3.7/dist-packages (7.2.2.3)\n",
            "Requirement already satisfied: nvidia-cublas<12,>=11 in /usr/local/lib/python3.7/dist-packages (from nvidia-tensorrt) (11.3.0.106)\n",
            "Requirement already satisfied: nvidia-cuda-nvrtc<11.2,>=11.1 in /usr/local/lib/python3.7/dist-packages (from nvidia-tensorrt) (11.1.105)\n",
            "Requirement already satisfied: nvidia-cuda-runtime<12,>=11 in /usr/local/lib/python3.7/dist-packages (from nvidia-tensorrt) (11.1.74)\n",
            "Requirement already satisfied: nvidia-cudnn<9,>=8 in /usr/local/lib/python3.7/dist-packages (from nvidia-tensorrt) (8.1.0.27)\n",
            "Requirement already satisfied: wheel in /usr/local/lib/python3.7/dist-packages (from nvidia-cublas<12,>=11->nvidia-tensorrt) (0.36.2)\n",
            "Requirement already satisfied: setuptools in /usr/local/lib/python3.7/dist-packages (from nvidia-cublas<12,>=11->nvidia-tensorrt) (53.0.0)\n"
          ],
          "name": "stdout"
        }
      ]
    },
    {
      "cell_type": "code",
      "metadata": {
        "id": "dS9PAdvLAEgQ"
      },
      "source": [
        "import tensorrt as trt "
      ],
      "execution_count": null,
      "outputs": []
    },
    {
      "cell_type": "code",
      "metadata": {
        "colab": {
          "base_uri": "https://localhost:8080/"
        },
        "id": "_JTKLt1cBMHx",
        "outputId": "b020fdd4-e330-4be2-9723-16d2ca84ac1d"
      },
      "source": [
        "!pip install pycuda"
      ],
      "execution_count": null,
      "outputs": [
        {
          "output_type": "stream",
          "text": [
            "Requirement already satisfied: pycuda in /usr/local/lib/python3.7/dist-packages (2020.1)\n",
            "Requirement already satisfied: appdirs>=1.4.0 in /usr/local/lib/python3.7/dist-packages (from pycuda) (1.4.4)\n",
            "Requirement already satisfied: pytools>=2011.2 in /usr/local/lib/python3.7/dist-packages (from pycuda) (2021.1)\n",
            "Requirement already satisfied: decorator>=3.2.0 in /usr/local/lib/python3.7/dist-packages (from pycuda) (4.4.2)\n",
            "Requirement already satisfied: mako in /usr/local/lib/python3.7/dist-packages (from pycuda) (1.1.4)\n",
            "Requirement already satisfied: numpy>=1.6.0 in /usr/local/lib/python3.7/dist-packages (from pytools>=2011.2->pycuda) (1.20.1)\n",
            "Requirement already satisfied: MarkupSafe>=0.9.2 in /usr/local/lib/python3.7/dist-packages (from mako->pycuda) (1.1.1)\n"
          ],
          "name": "stdout"
        }
      ]
    },
    {
      "cell_type": "code",
      "metadata": {
        "id": "EewMdWaYBjX6"
      },
      "source": [
        "import pycuda"
      ],
      "execution_count": null,
      "outputs": []
    },
    {
      "cell_type": "code",
      "metadata": {
        "id": "LcXrEQMmDHMV"
      },
      "source": [
        "import torch\n",
        "from torch.utils.data import TensorDataset\n",
        "from transformers import BertModel, BertTokenizer"
      ],
      "execution_count": null,
      "outputs": []
    },
    {
      "cell_type": "code",
      "metadata": {
        "id": "eWAHBISgDN_a"
      },
      "source": [
        "tokenizer = BertTokenizer.from_pretrained(\"bert-base-uncased\")"
      ],
      "execution_count": null,
      "outputs": []
    },
    {
      "cell_type": "code",
      "metadata": {
        "id": "p383lp2pDeNw"
      },
      "source": [
        "model = BertModel.from_pretrained(\"bert-base-uncased\")"
      ],
      "execution_count": null,
      "outputs": []
    },
    {
      "cell_type": "code",
      "metadata": {
        "id": "t4yWPuuLDjxO"
      },
      "source": [
        "texts = [\"Hello, my dog is cute\", \"Go to the store\", \"get me my bag\", \"you are a sick person\"]*8"
      ],
      "execution_count": null,
      "outputs": []
    },
    {
      "cell_type": "code",
      "metadata": {
        "colab": {
          "base_uri": "https://localhost:8080/"
        },
        "id": "MHjCJZoKZedc",
        "outputId": "963aef90-3993-4a70-fe0f-5ac83b2c0b94"
      },
      "source": [
        "texts"
      ],
      "execution_count": null,
      "outputs": [
        {
          "output_type": "execute_result",
          "data": {
            "text/plain": [
              "['Hello, my dog is cute',\n",
              " 'Go to the store',\n",
              " 'get me my bag',\n",
              " 'you are a sick person',\n",
              " 'Hello, my dog is cute',\n",
              " 'Go to the store',\n",
              " 'get me my bag',\n",
              " 'you are a sick person',\n",
              " 'Hello, my dog is cute',\n",
              " 'Go to the store',\n",
              " 'get me my bag',\n",
              " 'you are a sick person',\n",
              " 'Hello, my dog is cute',\n",
              " 'Go to the store',\n",
              " 'get me my bag',\n",
              " 'you are a sick person',\n",
              " 'Hello, my dog is cute',\n",
              " 'Go to the store',\n",
              " 'get me my bag',\n",
              " 'you are a sick person',\n",
              " 'Hello, my dog is cute',\n",
              " 'Go to the store',\n",
              " 'get me my bag',\n",
              " 'you are a sick person',\n",
              " 'Hello, my dog is cute',\n",
              " 'Go to the store',\n",
              " 'get me my bag',\n",
              " 'you are a sick person',\n",
              " 'Hello, my dog is cute',\n",
              " 'Go to the store',\n",
              " 'get me my bag',\n",
              " 'you are a sick person']"
            ]
          },
          "metadata": {
            "tags": []
          },
          "execution_count": 18
        }
      ]
    },
    {
      "cell_type": "code",
      "metadata": {
        "id": "pVU7tB4gZY0i"
      },
      "source": [
        "inputs = tokenizer(texts, return_tensors=\"pt\", padding=True) "
      ],
      "execution_count": null,
      "outputs": []
    },
    {
      "cell_type": "code",
      "metadata": {
        "colab": {
          "base_uri": "https://localhost:8080/"
        },
        "id": "lhq5DI4lD2LA",
        "outputId": "69aff1d9-7ddf-4c62-8284-1185e5a31fc9"
      },
      "source": [
        "inputs"
      ],
      "execution_count": null,
      "outputs": [
        {
          "output_type": "execute_result",
          "data": {
            "text/plain": [
              "{'input_ids': tensor([[  101,  7592,  1010,  2026,  3899,  2003, 10140,   102],\n",
              "        [  101,  2175,  2000,  1996,  3573,   102,     0,     0],\n",
              "        [  101,  2131,  2033,  2026,  4524,   102,     0,     0],\n",
              "        [  101,  2017,  2024,  1037,  5305,  2711,   102,     0],\n",
              "        [  101,  7592,  1010,  2026,  3899,  2003, 10140,   102],\n",
              "        [  101,  2175,  2000,  1996,  3573,   102,     0,     0],\n",
              "        [  101,  2131,  2033,  2026,  4524,   102,     0,     0],\n",
              "        [  101,  2017,  2024,  1037,  5305,  2711,   102,     0],\n",
              "        [  101,  7592,  1010,  2026,  3899,  2003, 10140,   102],\n",
              "        [  101,  2175,  2000,  1996,  3573,   102,     0,     0],\n",
              "        [  101,  2131,  2033,  2026,  4524,   102,     0,     0],\n",
              "        [  101,  2017,  2024,  1037,  5305,  2711,   102,     0],\n",
              "        [  101,  7592,  1010,  2026,  3899,  2003, 10140,   102],\n",
              "        [  101,  2175,  2000,  1996,  3573,   102,     0,     0],\n",
              "        [  101,  2131,  2033,  2026,  4524,   102,     0,     0],\n",
              "        [  101,  2017,  2024,  1037,  5305,  2711,   102,     0],\n",
              "        [  101,  7592,  1010,  2026,  3899,  2003, 10140,   102],\n",
              "        [  101,  2175,  2000,  1996,  3573,   102,     0,     0],\n",
              "        [  101,  2131,  2033,  2026,  4524,   102,     0,     0],\n",
              "        [  101,  2017,  2024,  1037,  5305,  2711,   102,     0],\n",
              "        [  101,  7592,  1010,  2026,  3899,  2003, 10140,   102],\n",
              "        [  101,  2175,  2000,  1996,  3573,   102,     0,     0],\n",
              "        [  101,  2131,  2033,  2026,  4524,   102,     0,     0],\n",
              "        [  101,  2017,  2024,  1037,  5305,  2711,   102,     0],\n",
              "        [  101,  7592,  1010,  2026,  3899,  2003, 10140,   102],\n",
              "        [  101,  2175,  2000,  1996,  3573,   102,     0,     0],\n",
              "        [  101,  2131,  2033,  2026,  4524,   102,     0,     0],\n",
              "        [  101,  2017,  2024,  1037,  5305,  2711,   102,     0],\n",
              "        [  101,  7592,  1010,  2026,  3899,  2003, 10140,   102],\n",
              "        [  101,  2175,  2000,  1996,  3573,   102,     0,     0],\n",
              "        [  101,  2131,  2033,  2026,  4524,   102,     0,     0],\n",
              "        [  101,  2017,  2024,  1037,  5305,  2711,   102,     0]]), 'token_type_ids': tensor([[0, 0, 0, 0, 0, 0, 0, 0],\n",
              "        [0, 0, 0, 0, 0, 0, 0, 0],\n",
              "        [0, 0, 0, 0, 0, 0, 0, 0],\n",
              "        [0, 0, 0, 0, 0, 0, 0, 0],\n",
              "        [0, 0, 0, 0, 0, 0, 0, 0],\n",
              "        [0, 0, 0, 0, 0, 0, 0, 0],\n",
              "        [0, 0, 0, 0, 0, 0, 0, 0],\n",
              "        [0, 0, 0, 0, 0, 0, 0, 0],\n",
              "        [0, 0, 0, 0, 0, 0, 0, 0],\n",
              "        [0, 0, 0, 0, 0, 0, 0, 0],\n",
              "        [0, 0, 0, 0, 0, 0, 0, 0],\n",
              "        [0, 0, 0, 0, 0, 0, 0, 0],\n",
              "        [0, 0, 0, 0, 0, 0, 0, 0],\n",
              "        [0, 0, 0, 0, 0, 0, 0, 0],\n",
              "        [0, 0, 0, 0, 0, 0, 0, 0],\n",
              "        [0, 0, 0, 0, 0, 0, 0, 0],\n",
              "        [0, 0, 0, 0, 0, 0, 0, 0],\n",
              "        [0, 0, 0, 0, 0, 0, 0, 0],\n",
              "        [0, 0, 0, 0, 0, 0, 0, 0],\n",
              "        [0, 0, 0, 0, 0, 0, 0, 0],\n",
              "        [0, 0, 0, 0, 0, 0, 0, 0],\n",
              "        [0, 0, 0, 0, 0, 0, 0, 0],\n",
              "        [0, 0, 0, 0, 0, 0, 0, 0],\n",
              "        [0, 0, 0, 0, 0, 0, 0, 0],\n",
              "        [0, 0, 0, 0, 0, 0, 0, 0],\n",
              "        [0, 0, 0, 0, 0, 0, 0, 0],\n",
              "        [0, 0, 0, 0, 0, 0, 0, 0],\n",
              "        [0, 0, 0, 0, 0, 0, 0, 0],\n",
              "        [0, 0, 0, 0, 0, 0, 0, 0],\n",
              "        [0, 0, 0, 0, 0, 0, 0, 0],\n",
              "        [0, 0, 0, 0, 0, 0, 0, 0],\n",
              "        [0, 0, 0, 0, 0, 0, 0, 0]]), 'attention_mask': tensor([[1, 1, 1, 1, 1, 1, 1, 1],\n",
              "        [1, 1, 1, 1, 1, 1, 0, 0],\n",
              "        [1, 1, 1, 1, 1, 1, 0, 0],\n",
              "        [1, 1, 1, 1, 1, 1, 1, 0],\n",
              "        [1, 1, 1, 1, 1, 1, 1, 1],\n",
              "        [1, 1, 1, 1, 1, 1, 0, 0],\n",
              "        [1, 1, 1, 1, 1, 1, 0, 0],\n",
              "        [1, 1, 1, 1, 1, 1, 1, 0],\n",
              "        [1, 1, 1, 1, 1, 1, 1, 1],\n",
              "        [1, 1, 1, 1, 1, 1, 0, 0],\n",
              "        [1, 1, 1, 1, 1, 1, 0, 0],\n",
              "        [1, 1, 1, 1, 1, 1, 1, 0],\n",
              "        [1, 1, 1, 1, 1, 1, 1, 1],\n",
              "        [1, 1, 1, 1, 1, 1, 0, 0],\n",
              "        [1, 1, 1, 1, 1, 1, 0, 0],\n",
              "        [1, 1, 1, 1, 1, 1, 1, 0],\n",
              "        [1, 1, 1, 1, 1, 1, 1, 1],\n",
              "        [1, 1, 1, 1, 1, 1, 0, 0],\n",
              "        [1, 1, 1, 1, 1, 1, 0, 0],\n",
              "        [1, 1, 1, 1, 1, 1, 1, 0],\n",
              "        [1, 1, 1, 1, 1, 1, 1, 1],\n",
              "        [1, 1, 1, 1, 1, 1, 0, 0],\n",
              "        [1, 1, 1, 1, 1, 1, 0, 0],\n",
              "        [1, 1, 1, 1, 1, 1, 1, 0],\n",
              "        [1, 1, 1, 1, 1, 1, 1, 1],\n",
              "        [1, 1, 1, 1, 1, 1, 0, 0],\n",
              "        [1, 1, 1, 1, 1, 1, 0, 0],\n",
              "        [1, 1, 1, 1, 1, 1, 1, 0],\n",
              "        [1, 1, 1, 1, 1, 1, 1, 1],\n",
              "        [1, 1, 1, 1, 1, 1, 0, 0],\n",
              "        [1, 1, 1, 1, 1, 1, 0, 0],\n",
              "        [1, 1, 1, 1, 1, 1, 1, 0]])}"
            ]
          },
          "metadata": {
            "tags": []
          },
          "execution_count": 20
        }
      ]
    },
    {
      "cell_type": "code",
      "metadata": {
        "id": "HubRCpO-D5gN"
      },
      "source": [
        "batch_inputs = TensorDataset(inputs[\"input_ids\"], inputs[\"token_type_ids\"], inputs[\"attention_mask\"]).tensors"
      ],
      "execution_count": null,
      "outputs": []
    },
    {
      "cell_type": "code",
      "metadata": {
        "id": "ntWxrUoYECuU"
      },
      "source": [
        "BATCH_SIZE = 32\n",
        "OPSET_VERSION=11\n",
        "USE_FP16 = True"
      ],
      "execution_count": null,
      "outputs": []
    },
    {
      "cell_type": "code",
      "metadata": {
        "id": "RXozVgLMZ5En"
      },
      "source": [
        "from transformers import convert_graph_to_onnx"
      ],
      "execution_count": null,
      "outputs": []
    },
    {
      "cell_type": "code",
      "metadata": {
        "id": "NpNXZ5-CaTJU"
      },
      "source": [
        "input_names = list(inputs.keys())"
      ],
      "execution_count": null,
      "outputs": []
    },
    {
      "cell_type": "code",
      "metadata": {
        "id": "M_RZsmL6dj2Y"
      },
      "source": [
        "outputs = model(**inputs)"
      ],
      "execution_count": null,
      "outputs": []
    },
    {
      "cell_type": "code",
      "metadata": {
        "colab": {
          "base_uri": "https://localhost:8080/"
        },
        "id": "8nkg0kV_0Kgy",
        "outputId": "68719609-6131-4a68-e563-4a13e11609bb"
      },
      "source": [
        "\n",
        "outputs.last_hidden_state.shape"
      ],
      "execution_count": null,
      "outputs": [
        {
          "output_type": "execute_result",
          "data": {
            "text/plain": [
              "torch.Size([32, 8, 768])"
            ]
          },
          "metadata": {
            "tags": []
          },
          "execution_count": 26
        }
      ]
    },
    {
      "cell_type": "code",
      "metadata": {
        "colab": {
          "base_uri": "https://localhost:8080/"
        },
        "id": "ivzFeKpI0P48",
        "outputId": "1de707e3-eda4-44ce-afb0-c09389691b8f"
      },
      "source": [
        "outputs.pooler_output.shape"
      ],
      "execution_count": null,
      "outputs": [
        {
          "output_type": "execute_result",
          "data": {
            "text/plain": [
              "torch.Size([32, 768])"
            ]
          },
          "metadata": {
            "tags": []
          },
          "execution_count": 27
        }
      ]
    },
    {
      "cell_type": "code",
      "metadata": {
        "colab": {
          "base_uri": "https://localhost:8080/"
        },
        "id": "26YhkdB8d5eV",
        "outputId": "7bc041ea-1cf8-4833-927c-525ad7013507"
      },
      "source": [
        "input_names"
      ],
      "execution_count": null,
      "outputs": [
        {
          "output_type": "execute_result",
          "data": {
            "text/plain": [
              "['input_ids', 'token_type_ids', 'attention_mask']"
            ]
          },
          "metadata": {
            "tags": []
          },
          "execution_count": 28
        }
      ]
    },
    {
      "cell_type": "code",
      "metadata": {
        "id": "z7ZET98peOhi"
      },
      "source": [
        " "
      ],
      "execution_count": null,
      "outputs": []
    },
    {
      "cell_type": "code",
      "metadata": {
        "colab": {
          "base_uri": "https://localhost:8080/"
        },
        "id": "hfl9oOmyEL9f",
        "outputId": "244ebf5f-e055-4f00-fc99-922cb8156032"
      },
      "source": [
        "torch.onnx.export(model, \n",
        "                  args=batch_inputs, \n",
        "                  f=\"bert_base_model.onnx\", \n",
        "                  input_names=input_names, \n",
        "                  output_names=[\"output\"], \n",
        "                  export_params=True, \n",
        "                  opset_version=OPSET_VERSION)"
      ],
      "execution_count": null,
      "outputs": [
        {
          "output_type": "stream",
          "text": [
            "/usr/local/lib/python3.7/dist-packages/transformers/models/bert/modeling_bert.py:194: TracerWarning: Converting a tensor to a Python index might cause the trace to be incorrect. We can't record the data flow of Python values, so this value will be treated as a constant in the future. This means that the trace might not generalize to other inputs!\n",
            "  position_ids = self.position_ids[:, past_key_values_length : seq_length + past_key_values_length]\n",
            "/usr/local/lib/python3.7/dist-packages/transformers/modeling_utils.py:1760: TracerWarning: Converting a tensor to a Python boolean might cause the trace to be incorrect. We can't record the data flow of Python values, so this value will be treated as a constant in the future. This means that the trace might not generalize to other inputs!\n",
            "  input_tensor.shape[chunk_dim] == tensor_shape for input_tensor in input_tensors\n"
          ],
          "name": "stderr"
        }
      ]
    },
    {
      "cell_type": "code",
      "metadata": {
        "id": "dxUoKwu4EVrx"
      },
      "source": [
        ""
      ],
      "execution_count": null,
      "outputs": []
    },
    {
      "cell_type": "code",
      "metadata": {
        "id": "IG0ubNU8GeB3"
      },
      "source": [
        "import tensorrt"
      ],
      "execution_count": null,
      "outputs": []
    },
    {
      "cell_type": "code",
      "metadata": {
        "colab": {
          "base_uri": "https://localhost:8080/"
        },
        "id": "3ILpsOIDE7HA",
        "outputId": "50919cc9-74e0-4317-901f-34668d90e925"
      },
      "source": [
        "## Not useful at all. Fuck you Nvidia!!!\n",
        "if USE_FP16:\n",
        "    !trtexec --onnx=trt_model.onnx --saveEngine=bert_engine_pytorch.trt  --explicitBatch --fp16\n",
        "else:\n",
        "    !trtexec --onnx=trt_model.onnx --saveEngine=bert_engine_pytorch.trt  --explicitBatch"
      ],
      "execution_count": null,
      "outputs": [
        {
          "output_type": "stream",
          "text": [
            "/bin/bash: trtexec: command not found\n"
          ],
          "name": "stdout"
        }
      ]
    },
    {
      "cell_type": "code",
      "metadata": {
        "colab": {
          "base_uri": "https://localhost:8080/"
        },
        "id": "B_X0KM_dFuLx",
        "outputId": "1681ffed-def5-482d-9c4b-5f9d180573bc"
      },
      "source": [
        "!nvcc --version"
      ],
      "execution_count": null,
      "outputs": [
        {
          "output_type": "stream",
          "text": [
            "nvcc: NVIDIA (R) Cuda compiler driver\n",
            "Copyright (c) 2005-2019 NVIDIA Corporation\n",
            "Built on Sun_Jul_28_19:07:16_PDT_2019\n",
            "Cuda compilation tools, release 10.1, V10.1.243\n"
          ],
          "name": "stdout"
        }
      ]
    },
    {
      "cell_type": "code",
      "metadata": {
        "colab": {
          "base_uri": "https://localhost:8080/"
        },
        "id": "Ret8LZW6GMnf",
        "outputId": "a7997395-b386-43a4-b19d-806d2efbeb84"
      },
      "source": [
        "!sudo apt-get install python-libnvinfer-dev python3-libnvinfer-dev"
      ],
      "execution_count": null,
      "outputs": [
        {
          "output_type": "stream",
          "text": [
            "Reading package lists... Done\n",
            "Building dependency tree       \n",
            "Reading state information... Done\n",
            "python3-libnvinfer-dev is already the newest version (7.2.2-1+cuda11.1).\n",
            "python-libnvinfer-dev is already the newest version (7.2.2-1+cuda11.1).\n",
            "0 upgraded, 0 newly installed, 0 to remove and 13 not upgraded.\n"
          ],
          "name": "stdout"
        }
      ]
    },
    {
      "cell_type": "code",
      "metadata": {
        "colab": {
          "base_uri": "https://localhost:8080/"
        },
        "id": "F5eZKffmG-hs",
        "outputId": "1ec16255-c737-4c11-aac2-da30786ea36a"
      },
      "source": [
        "!dpkg -l | grep TensorRT"
      ],
      "execution_count": null,
      "outputs": [
        {
          "output_type": "stream",
          "text": [
            "ii  libnvinfer-dev                         7.2.2-1+cuda11.1                    amd64        TensorRT development libraries and headers\n",
            "ii  libnvinfer-plugin-dev                  7.2.2-1+cuda11.1                    amd64        TensorRT plugin libraries\n",
            "ii  libnvinfer-plugin7                     7.2.2-1+cuda11.1                    amd64        TensorRT plugin libraries\n",
            "ii  libnvinfer7                            7.2.2-1+cuda11.1                    amd64        TensorRT runtime libraries\n",
            "ii  libnvonnxparsers-dev                   7.2.2-1+cuda11.1                    amd64        TensorRT ONNX libraries\n",
            "ii  libnvonnxparsers7                      7.2.2-1+cuda11.1                    amd64        TensorRT ONNX libraries\n",
            "ii  libnvparsers-dev                       7.2.2-1+cuda11.1                    amd64        TensorRT parsers libraries\n",
            "ii  libnvparsers7                          7.2.2-1+cuda11.1                    amd64        TensorRT parsers libraries\n",
            "ii  python-libnvinfer                      7.2.2-1+cuda11.1                    amd64        Python bindings for TensorRT\n",
            "ii  python-libnvinfer-dev                  7.2.2-1+cuda11.1                    amd64        Python development package for TensorRT\n",
            "ii  python3-libnvinfer                     7.2.2-1+cuda11.1                    amd64        Python 3 bindings for TensorRT\n",
            "ii  python3-libnvinfer-dev                 7.2.2-1+cuda11.1                    amd64        Python 3 development package for TensorRT\n"
          ],
          "name": "stdout"
        }
      ]
    },
    {
      "cell_type": "code",
      "metadata": {
        "colab": {
          "base_uri": "https://localhost:8080/"
        },
        "id": "49FU2TRYH3Gw",
        "outputId": "48e8af78-121a-4061-fa54-9ab7710a4bba"
      },
      "source": [
        "!echo $LD_LIBRARY_PATH"
      ],
      "execution_count": null,
      "outputs": [
        {
          "output_type": "stream",
          "text": [
            "/usr/lib64-nvidia\n"
          ],
          "name": "stdout"
        }
      ]
    },
    {
      "cell_type": "code",
      "metadata": {
        "id": "oMKUbUimIgeg"
      },
      "source": [
        ""
      ],
      "execution_count": null,
      "outputs": []
    },
    {
      "cell_type": "code",
      "metadata": {
        "id": "MLCYCRszNpti"
      },
      "source": [
        ""
      ],
      "execution_count": null,
      "outputs": []
    },
    {
      "cell_type": "code",
      "metadata": {
        "id": "4doyC8p1PxZ9"
      },
      "source": [
        ""
      ],
      "execution_count": null,
      "outputs": []
    },
    {
      "cell_type": "code",
      "metadata": {
        "colab": {
          "base_uri": "https://localhost:8080/"
        },
        "id": "j-BvSLcdQRTg",
        "outputId": "5a058083-ab5e-4181-a671-94ac39198837"
      },
      "source": [
        "!pip install --upgrade onnxruntime"
      ],
      "execution_count": null,
      "outputs": [
        {
          "output_type": "stream",
          "text": [
            "Requirement already up-to-date: onnxruntime in /usr/local/lib/python3.7/dist-packages (1.6.0)\n",
            "Requirement already satisfied, skipping upgrade: numpy>=1.16.6 in /usr/local/lib/python3.7/dist-packages (from onnxruntime) (1.20.1)\n",
            "Requirement already satisfied, skipping upgrade: protobuf in /usr/local/lib/python3.7/dist-packages (from onnxruntime) (3.15.2)\n",
            "Requirement already satisfied, skipping upgrade: six>=1.9 in /usr/local/lib/python3.7/dist-packages (from protobuf->onnxruntime) (1.15.0)\n"
          ],
          "name": "stdout"
        }
      ]
    },
    {
      "cell_type": "code",
      "metadata": {
        "id": "Z16-u0_lQUvR"
      },
      "source": [
        "import onnxruntime"
      ],
      "execution_count": null,
      "outputs": []
    },
    {
      "cell_type": "code",
      "metadata": {
        "id": "l5ReCfRBjaCf"
      },
      "source": [
        "sess_options = onnxruntime.SessionOptions()"
      ],
      "execution_count": null,
      "outputs": []
    },
    {
      "cell_type": "code",
      "metadata": {
        "id": "HtATYi1RjkbP"
      },
      "source": [
        "sess_options.optimized_model_filepath = \"bert_base_model-optimized.onnx\""
      ],
      "execution_count": null,
      "outputs": []
    },
    {
      "cell_type": "code",
      "metadata": {
        "id": "szVrQQk9QWsD"
      },
      "source": [
        "session = onnxruntime.InferenceSession(\"bert_base_model.onnx\", sess_options)"
      ],
      "execution_count": null,
      "outputs": []
    },
    {
      "cell_type": "code",
      "metadata": {
        "id": "DGIRIIQnkQK0"
      },
      "source": [
        "optimized_model_path = \"bert_base_model-optimized.onnx\""
      ],
      "execution_count": null,
      "outputs": []
    },
    {
      "cell_type": "code",
      "metadata": {
        "id": "J7ITbaXdkTzL"
      },
      "source": [
        "import onnx\n",
        "from onnxruntime.quantization import QuantizationMode, quantize, quantize_dynamic, quantize_static, CalibrationDataReader"
      ],
      "execution_count": null,
      "outputs": []
    },
    {
      "cell_type": "code",
      "metadata": {
        "id": "BkrSGOlJQdLT"
      },
      "source": [
        "quantized_model_path = \"bert_base_model-quantized.onnx\""
      ],
      "execution_count": null,
      "outputs": []
    },
    {
      "cell_type": "code",
      "metadata": {
        "id": "UkOpk7s0XeM-"
      },
      "source": [
        "# onnx_model = onnx.load(optimized_model_path)\n",
        "# quantized_model = quantize(model=onnx_model, \n",
        "#                            quantization_mode=QuantizationMode.IntegerOps, \n",
        "#                            force_fusions=True,\n",
        "#                            symmetric_weight=True)\n",
        "# onnx.save_model(quantized_model, quantized_model_path)\n",
        "\n",
        "dynamic_quantized_model = quantize_dynamic(model_input=optimized_model_path,\n",
        "                                          model_output=quantized_model_path)\n"
      ],
      "execution_count": null,
      "outputs": []
    },
    {
      "cell_type": "code",
      "metadata": {
        "id": "5cOv6xYqkkZK"
      },
      "source": [
        ""
      ],
      "execution_count": null,
      "outputs": []
    },
    {
      "cell_type": "code",
      "metadata": {
        "id": "pxfJuzu35ahy"
      },
      "source": [
        ""
      ],
      "execution_count": null,
      "outputs": []
    },
    {
      "cell_type": "code",
      "metadata": {
        "id": "RJl6b5ffWgm-"
      },
      "source": [
        "import numpy as np\n",
        "numpy_array_inputs = np.array([v.numpy() for k, v in inputs.items()])"
      ],
      "execution_count": null,
      "outputs": []
    },
    {
      "cell_type": "code",
      "metadata": {
        "id": "OI-g-H_sofFO"
      },
      "source": [
        "inference_session = onnxruntime.InferenceSession(quantized_model_path)"
      ],
      "execution_count": null,
      "outputs": []
    },
    {
      "cell_type": "code",
      "metadata": {
        "id": "8J2CyElDuci0"
      },
      "source": [
        "numpy_array_dict = {k: v.numpy() for k, v in inputs.items()}"
      ],
      "execution_count": null,
      "outputs": []
    },
    {
      "cell_type": "code",
      "metadata": {
        "colab": {
          "base_uri": "https://localhost:8080/"
        },
        "id": "nKyAs01ku2r3",
        "outputId": "bd0ed2e5-206b-4aaa-ac3a-a03d154636ea"
      },
      "source": [
        "numpy_array_dict"
      ],
      "execution_count": null,
      "outputs": [
        {
          "output_type": "execute_result",
          "data": {
            "text/plain": [
              "{'attention_mask': array([[1, 1, 1, 1, 1, 1, 1, 1],\n",
              "        [1, 1, 1, 1, 1, 1, 0, 0],\n",
              "        [1, 1, 1, 1, 1, 1, 0, 0],\n",
              "        [1, 1, 1, 1, 1, 1, 1, 0],\n",
              "        [1, 1, 1, 1, 1, 1, 1, 1],\n",
              "        [1, 1, 1, 1, 1, 1, 0, 0],\n",
              "        [1, 1, 1, 1, 1, 1, 0, 0],\n",
              "        [1, 1, 1, 1, 1, 1, 1, 0],\n",
              "        [1, 1, 1, 1, 1, 1, 1, 1],\n",
              "        [1, 1, 1, 1, 1, 1, 0, 0],\n",
              "        [1, 1, 1, 1, 1, 1, 0, 0],\n",
              "        [1, 1, 1, 1, 1, 1, 1, 0],\n",
              "        [1, 1, 1, 1, 1, 1, 1, 1],\n",
              "        [1, 1, 1, 1, 1, 1, 0, 0],\n",
              "        [1, 1, 1, 1, 1, 1, 0, 0],\n",
              "        [1, 1, 1, 1, 1, 1, 1, 0],\n",
              "        [1, 1, 1, 1, 1, 1, 1, 1],\n",
              "        [1, 1, 1, 1, 1, 1, 0, 0],\n",
              "        [1, 1, 1, 1, 1, 1, 0, 0],\n",
              "        [1, 1, 1, 1, 1, 1, 1, 0],\n",
              "        [1, 1, 1, 1, 1, 1, 1, 1],\n",
              "        [1, 1, 1, 1, 1, 1, 0, 0],\n",
              "        [1, 1, 1, 1, 1, 1, 0, 0],\n",
              "        [1, 1, 1, 1, 1, 1, 1, 0],\n",
              "        [1, 1, 1, 1, 1, 1, 1, 1],\n",
              "        [1, 1, 1, 1, 1, 1, 0, 0],\n",
              "        [1, 1, 1, 1, 1, 1, 0, 0],\n",
              "        [1, 1, 1, 1, 1, 1, 1, 0],\n",
              "        [1, 1, 1, 1, 1, 1, 1, 1],\n",
              "        [1, 1, 1, 1, 1, 1, 0, 0],\n",
              "        [1, 1, 1, 1, 1, 1, 0, 0],\n",
              "        [1, 1, 1, 1, 1, 1, 1, 0]]),\n",
              " 'input_ids': array([[  101,  7592,  1010,  2026,  3899,  2003, 10140,   102],\n",
              "        [  101,  2175,  2000,  1996,  3573,   102,     0,     0],\n",
              "        [  101,  2131,  2033,  2026,  4524,   102,     0,     0],\n",
              "        [  101,  2017,  2024,  1037,  5305,  2711,   102,     0],\n",
              "        [  101,  7592,  1010,  2026,  3899,  2003, 10140,   102],\n",
              "        [  101,  2175,  2000,  1996,  3573,   102,     0,     0],\n",
              "        [  101,  2131,  2033,  2026,  4524,   102,     0,     0],\n",
              "        [  101,  2017,  2024,  1037,  5305,  2711,   102,     0],\n",
              "        [  101,  7592,  1010,  2026,  3899,  2003, 10140,   102],\n",
              "        [  101,  2175,  2000,  1996,  3573,   102,     0,     0],\n",
              "        [  101,  2131,  2033,  2026,  4524,   102,     0,     0],\n",
              "        [  101,  2017,  2024,  1037,  5305,  2711,   102,     0],\n",
              "        [  101,  7592,  1010,  2026,  3899,  2003, 10140,   102],\n",
              "        [  101,  2175,  2000,  1996,  3573,   102,     0,     0],\n",
              "        [  101,  2131,  2033,  2026,  4524,   102,     0,     0],\n",
              "        [  101,  2017,  2024,  1037,  5305,  2711,   102,     0],\n",
              "        [  101,  7592,  1010,  2026,  3899,  2003, 10140,   102],\n",
              "        [  101,  2175,  2000,  1996,  3573,   102,     0,     0],\n",
              "        [  101,  2131,  2033,  2026,  4524,   102,     0,     0],\n",
              "        [  101,  2017,  2024,  1037,  5305,  2711,   102,     0],\n",
              "        [  101,  7592,  1010,  2026,  3899,  2003, 10140,   102],\n",
              "        [  101,  2175,  2000,  1996,  3573,   102,     0,     0],\n",
              "        [  101,  2131,  2033,  2026,  4524,   102,     0,     0],\n",
              "        [  101,  2017,  2024,  1037,  5305,  2711,   102,     0],\n",
              "        [  101,  7592,  1010,  2026,  3899,  2003, 10140,   102],\n",
              "        [  101,  2175,  2000,  1996,  3573,   102,     0,     0],\n",
              "        [  101,  2131,  2033,  2026,  4524,   102,     0,     0],\n",
              "        [  101,  2017,  2024,  1037,  5305,  2711,   102,     0],\n",
              "        [  101,  7592,  1010,  2026,  3899,  2003, 10140,   102],\n",
              "        [  101,  2175,  2000,  1996,  3573,   102,     0,     0],\n",
              "        [  101,  2131,  2033,  2026,  4524,   102,     0,     0],\n",
              "        [  101,  2017,  2024,  1037,  5305,  2711,   102,     0]]),\n",
              " 'token_type_ids': array([[0, 0, 0, 0, 0, 0, 0, 0],\n",
              "        [0, 0, 0, 0, 0, 0, 0, 0],\n",
              "        [0, 0, 0, 0, 0, 0, 0, 0],\n",
              "        [0, 0, 0, 0, 0, 0, 0, 0],\n",
              "        [0, 0, 0, 0, 0, 0, 0, 0],\n",
              "        [0, 0, 0, 0, 0, 0, 0, 0],\n",
              "        [0, 0, 0, 0, 0, 0, 0, 0],\n",
              "        [0, 0, 0, 0, 0, 0, 0, 0],\n",
              "        [0, 0, 0, 0, 0, 0, 0, 0],\n",
              "        [0, 0, 0, 0, 0, 0, 0, 0],\n",
              "        [0, 0, 0, 0, 0, 0, 0, 0],\n",
              "        [0, 0, 0, 0, 0, 0, 0, 0],\n",
              "        [0, 0, 0, 0, 0, 0, 0, 0],\n",
              "        [0, 0, 0, 0, 0, 0, 0, 0],\n",
              "        [0, 0, 0, 0, 0, 0, 0, 0],\n",
              "        [0, 0, 0, 0, 0, 0, 0, 0],\n",
              "        [0, 0, 0, 0, 0, 0, 0, 0],\n",
              "        [0, 0, 0, 0, 0, 0, 0, 0],\n",
              "        [0, 0, 0, 0, 0, 0, 0, 0],\n",
              "        [0, 0, 0, 0, 0, 0, 0, 0],\n",
              "        [0, 0, 0, 0, 0, 0, 0, 0],\n",
              "        [0, 0, 0, 0, 0, 0, 0, 0],\n",
              "        [0, 0, 0, 0, 0, 0, 0, 0],\n",
              "        [0, 0, 0, 0, 0, 0, 0, 0],\n",
              "        [0, 0, 0, 0, 0, 0, 0, 0],\n",
              "        [0, 0, 0, 0, 0, 0, 0, 0],\n",
              "        [0, 0, 0, 0, 0, 0, 0, 0],\n",
              "        [0, 0, 0, 0, 0, 0, 0, 0],\n",
              "        [0, 0, 0, 0, 0, 0, 0, 0],\n",
              "        [0, 0, 0, 0, 0, 0, 0, 0],\n",
              "        [0, 0, 0, 0, 0, 0, 0, 0],\n",
              "        [0, 0, 0, 0, 0, 0, 0, 0]])}"
            ]
          },
          "metadata": {
            "tags": []
          },
          "execution_count": 46
        }
      ]
    },
    {
      "cell_type": "code",
      "metadata": {
        "id": "_FceIefAV5I2"
      },
      "source": [
        "embeddings = inference_session.run(None, numpy_array_dict)"
      ],
      "execution_count": null,
      "outputs": []
    },
    {
      "cell_type": "code",
      "metadata": {
        "colab": {
          "base_uri": "https://localhost:8080/"
        },
        "id": "xbWUU1SWV6n9",
        "outputId": "3111cdd3-6470-471c-bfe7-74295a05301d"
      },
      "source": [
        "embeddings"
      ],
      "execution_count": null,
      "outputs": [
        {
          "output_type": "execute_result",
          "data": {
            "text/plain": [
              "[array([[[-3.73735428e-02,  2.19441831e-01,  1.93563104e-01, ...,\n",
              "          -1.01970941e-01,  4.23016697e-02,  3.49321395e-01],\n",
              "         [ 1.55111864e-01,  2.67533004e-01,  3.20281059e-01, ...,\n",
              "          -1.09486125e-01,  6.74381182e-02, -9.47885066e-02],\n",
              "         [-4.19184774e-01,  6.57595158e-01,  5.91633260e-01, ...,\n",
              "          -7.98321068e-01,  1.05481707e-01,  2.12848887e-01],\n",
              "         ...,\n",
              "         [-1.64352700e-01, -4.45064753e-02,  5.54163694e-01, ...,\n",
              "          -7.70599723e-01, -3.09484452e-01,  5.37495017e-01],\n",
              "         [-5.30717850e-01,  2.50040628e-02,  2.85957187e-01, ...,\n",
              "          -3.42200309e-01,  4.57981229e-02, -2.32771441e-01],\n",
              "         [ 6.56033456e-01, -2.67751813e-02, -2.71166950e-01, ...,\n",
              "           6.78134859e-01, -5.91480613e-01, -9.90796089e-02]],\n",
              " \n",
              "        [[ 7.66473934e-02, -1.12734348e-01,  4.03019816e-01, ...,\n",
              "          -1.95155088e-02, -5.76877668e-02,  4.12166476e-01],\n",
              "         [-1.79752365e-01, -6.61922634e-01,  4.79029834e-01, ...,\n",
              "          -8.52199420e-02, -4.42001313e-01,  4.79641497e-01],\n",
              "         [-3.42009604e-01, -6.77889764e-01,  4.15381417e-03, ...,\n",
              "          -3.15901458e-01, -2.51309454e-01,  3.31998169e-01],\n",
              "         ...,\n",
              "         [ 5.99871278e-01, -1.84040397e-01, -6.61795437e-01, ...,\n",
              "           4.53869522e-01, -5.88216305e-01, -2.12255925e-01],\n",
              "         [ 2.41336375e-02, -3.10621411e-01,  5.25249600e-01, ...,\n",
              "           6.54445365e-02,  1.12116836e-01, -4.24632758e-01],\n",
              "         [ 7.96899796e-02, -1.63729697e-01,  5.94850004e-01, ...,\n",
              "          -1.00635253e-01, -2.43592739e-01, -4.11282450e-01]],\n",
              " \n",
              "        [[ 1.43954933e-01,  1.88474447e-01,  4.01136160e-01, ...,\n",
              "          -2.36477647e-02, -2.48751044e-01,  1.56111494e-01],\n",
              "         [-1.43048063e-01, -9.65302810e-04,  6.23000443e-01, ...,\n",
              "          -8.05095732e-02, -1.95570394e-01,  2.26834659e-02],\n",
              "         [-6.96049452e-01,  1.81274980e-01, -3.95261496e-01, ...,\n",
              "          -3.40549871e-02, -2.97217444e-03,  2.45420381e-01],\n",
              "         ...,\n",
              "         [ 6.05343401e-01,  3.11011150e-02, -2.68517703e-01, ...,\n",
              "           3.84746790e-01, -4.02674258e-01, -3.27531338e-01],\n",
              "         [-6.93836883e-02, -1.50539041e-01,  5.43237686e-01, ...,\n",
              "          -3.31463665e-03,  7.45752454e-02, -4.55376238e-01],\n",
              "         [-1.75065845e-01, -1.36061814e-02,  9.91780341e-01, ...,\n",
              "          -4.98221308e-01, -1.90805480e-01, -4.29540202e-02]],\n",
              " \n",
              "        ...,\n",
              " \n",
              "        [[ 7.66473934e-02, -1.12734348e-01,  4.03019816e-01, ...,\n",
              "          -1.95155088e-02, -5.76877668e-02,  4.12166476e-01],\n",
              "         [-1.79752365e-01, -6.61922634e-01,  4.79029834e-01, ...,\n",
              "          -8.52199420e-02, -4.42001313e-01,  4.79641497e-01],\n",
              "         [-3.42009604e-01, -6.77889764e-01,  4.15381417e-03, ...,\n",
              "          -3.15901458e-01, -2.51309454e-01,  3.31998169e-01],\n",
              "         ...,\n",
              "         [ 5.99871278e-01, -1.84040397e-01, -6.61795437e-01, ...,\n",
              "           4.53869522e-01, -5.88216305e-01, -2.12255925e-01],\n",
              "         [ 2.41336375e-02, -3.10621411e-01,  5.25249600e-01, ...,\n",
              "           6.54445365e-02,  1.12116836e-01, -4.24632758e-01],\n",
              "         [ 7.96899796e-02, -1.63729697e-01,  5.94850004e-01, ...,\n",
              "          -1.00635253e-01, -2.43592739e-01, -4.11282450e-01]],\n",
              " \n",
              "        [[ 1.43954933e-01,  1.88474447e-01,  4.01136160e-01, ...,\n",
              "          -2.36477647e-02, -2.48751044e-01,  1.56111494e-01],\n",
              "         [-1.43048063e-01, -9.65302810e-04,  6.23000443e-01, ...,\n",
              "          -8.05095732e-02, -1.95570394e-01,  2.26834659e-02],\n",
              "         [-6.96049452e-01,  1.81274980e-01, -3.95261496e-01, ...,\n",
              "          -3.40549871e-02, -2.97217444e-03,  2.45420381e-01],\n",
              "         ...,\n",
              "         [ 6.05343401e-01,  3.11011150e-02, -2.68517703e-01, ...,\n",
              "           3.84746790e-01, -4.02674258e-01, -3.27531338e-01],\n",
              "         [-6.93836883e-02, -1.50539041e-01,  5.43237686e-01, ...,\n",
              "          -3.31463665e-03,  7.45752454e-02, -4.55376238e-01],\n",
              "         [-1.75065845e-01, -1.36061814e-02,  9.91780341e-01, ...,\n",
              "          -4.98221308e-01, -1.90805480e-01, -4.29540202e-02]],\n",
              " \n",
              "        [[ 1.75191954e-01,  6.90974444e-02, -3.75627913e-02, ...,\n",
              "          -3.48292857e-01,  1.30829394e-01,  1.51730835e-01],\n",
              "         [-2.53415376e-01, -1.45097971e-01,  4.91893262e-01, ...,\n",
              "          -3.82976472e-01,  4.00978237e-01, -2.85541452e-02],\n",
              "         [ 5.18034577e-01,  1.02323078e-01,  4.61218417e-01, ...,\n",
              "          -9.47395623e-01,  4.75038737e-02, -5.30585498e-02],\n",
              "         ...,\n",
              "         [-2.71507204e-01, -7.58787245e-02,  4.73941922e-01, ...,\n",
              "          -1.76437810e-01,  1.88119724e-01, -7.43306875e-01],\n",
              "         [ 7.61053503e-01, -1.66137330e-02, -4.47745949e-01, ...,\n",
              "           2.23661259e-01, -6.74726009e-01, -7.54666701e-02],\n",
              "         [-1.14683025e-01, -8.72632191e-02,  4.97312009e-01, ...,\n",
              "           4.01442125e-02,  1.89901873e-01, -1.53324276e-01]]],\n",
              "       dtype=float32),\n",
              " array([[-0.1364326 , -0.05592348,  0.49100107, ...,  0.53822315,\n",
              "         -0.2667458 ,  0.5082108 ],\n",
              "        [-0.30865356, -0.07437372,  0.28011248, ...,  0.4149175 ,\n",
              "         -0.37352675,  0.5679752 ],\n",
              "        [-0.42661902, -0.0939339 ,  0.63163745, ...,  0.5797541 ,\n",
              "         -0.3478145 ,  0.6576871 ],\n",
              "        ...,\n",
              "        [-0.30865356, -0.07437372,  0.28011248, ...,  0.4149175 ,\n",
              "         -0.37352675,  0.5679752 ],\n",
              "        [-0.42661902, -0.0939339 ,  0.63163745, ...,  0.5797541 ,\n",
              "         -0.3478145 ,  0.6576871 ],\n",
              "        [-0.6598643 , -0.14912504,  0.62995875, ...,  0.6261188 ,\n",
              "         -0.51808655,  0.7722327 ]], dtype=float32)]"
            ]
          },
          "metadata": {
            "tags": []
          },
          "execution_count": 48
        }
      ]
    },
    {
      "cell_type": "code",
      "metadata": {
        "id": "qtjeI4UIrqvF"
      },
      "source": [
        "ort_input_ids = onnxruntime.OrtValue.ortvalue_from_numpy(inputs[\"input_ids\"].numpy(), device_type=\"cpu\", device_id=0)\n",
        "ort_token_type_ids = onnxruntime.OrtValue.ortvalue_from_numpy(inputs[\"token_type_ids\"].numpy(), device_type=\"cpu\", device_id=0)\n",
        "ort_attention_mask = onnxruntime.OrtValue.ortvalue_from_numpy(inputs[\"attention_mask\"].numpy(), device_type=\"cpu\", device_id=0)\n",
        "\n",
        "io_binding = session.io_binding()\n",
        "\n",
        "# OnnxRuntime will copy the data over to the CUDA device if it is consumed by nodes on the CUDA device\n",
        "io_binding.bind_ortvalue_input('input_ids', ort_input_ids)\n",
        "io_binding.bind_ortvalue_input('token_type_ids', ort_token_type_ids)\n",
        "io_binding.bind_ortvalue_input('attention_mask', ort_attention_mask)\n",
        "\n",
        "Y_ort_value = onnxruntime.OrtValue.ortvalue_from_shape_and_type([32, 8, 768], np.float32, 'cpu', 0)\n",
        "io_binding.bind_ortvalue_output('output', Y_ort_value)\n",
        "\n",
        "session.run_with_iobinding(io_binding)\n",
        "Y_embeddings = io_binding.copy_outputs_to_cpu()[0]\n"
      ],
      "execution_count": null,
      "outputs": []
    },
    {
      "cell_type": "code",
      "metadata": {
        "colab": {
          "base_uri": "https://localhost:8080/"
        },
        "id": "1Ops5iwNwLc2",
        "outputId": "f6a75bdd-460c-47c9-dc6b-c910326eaaa1"
      },
      "source": [
        "Y_embeddings"
      ],
      "execution_count": null,
      "outputs": [
        {
          "output_type": "execute_result",
          "data": {
            "text/plain": [
              "array([[[ 0.06407244,  0.5132997 ,  0.06468916, ..., -0.5676768 ,\n",
              "          0.11633667,  0.29131466],\n",
              "        [ 0.16641109,  0.40584326,  0.5065138 , ..., -0.3532385 ,\n",
              "          0.19185555,  0.02976981],\n",
              "        [-0.47325447,  1.0550802 ,  0.32723206, ..., -0.7967647 ,\n",
              "          0.35662922, -0.00331088],\n",
              "        ...,\n",
              "        [-0.33917296, -0.0660683 ,  0.5086327 , ..., -0.7612312 ,\n",
              "         -0.27832684,  0.6653786 ],\n",
              "        [-0.5493221 ,  0.14455572,  0.15016676, ..., -0.42107478,\n",
              "          0.1896516 ,  0.01410751],\n",
              "        [ 0.64637595,  0.07127587, -0.45367277, ..., -0.06630263,\n",
              "         -0.4371574 , -0.17445263]],\n",
              "\n",
              "       [[ 0.11069668, -0.08293285,  0.42706603, ...,  0.00120921,\n",
              "          0.25974396,  0.30370587],\n",
              "        [-0.28896758, -0.6415334 ,  0.62492603, ..., -0.08302327,\n",
              "         -0.34951532,  0.32458925],\n",
              "        [-0.47081953, -0.62868   ,  0.3432132 , ..., -0.28400627,\n",
              "         -0.20963076,  0.27866927],\n",
              "        ...,\n",
              "        [ 0.7307848 , -0.04877289, -0.5014908 , ..., -0.09076641,\n",
              "         -0.61538756, -0.3116946 ],\n",
              "        [-0.0741327 , -0.46792188,  0.84568   , ..., -0.16534156,\n",
              "          0.41278556, -0.6019504 ],\n",
              "        [ 0.2240491 , -0.34904212,  0.89084506, ..., -0.32112232,\n",
              "          0.1128896 , -0.92345834]],\n",
              "\n",
              "       [[ 0.21405035,  0.29909718,  0.56868684, ...,  0.19995324,\n",
              "         -0.0549742 ,  0.00987769],\n",
              "        [-0.5444439 ,  0.22103533,  0.8894616 , ..., -0.11401828,\n",
              "         -0.30836564, -0.02269662],\n",
              "        [-0.5540963 ,  0.2623561 , -0.48202023, ...,  0.01312962,\n",
              "         -0.01970427,  0.4798233 ],\n",
              "        ...,\n",
              "        [ 0.7754224 ,  0.070295  , -0.34285927, ...,  0.05299648,\n",
              "         -0.60657096, -0.38621044],\n",
              "        [-0.02497876, -0.04416031,  0.846453  , ..., -0.1282204 ,\n",
              "          0.27960512, -0.6230528 ],\n",
              "        [ 0.11250399,  0.12471574,  1.019962  , ..., -0.29110146,\n",
              "          0.22155654, -0.7064157 ]],\n",
              "\n",
              "       ...,\n",
              "\n",
              "       [[ 0.11069668, -0.08293285,  0.42706603, ...,  0.00120921,\n",
              "          0.25974396,  0.30370587],\n",
              "        [-0.28896758, -0.6415334 ,  0.62492603, ..., -0.08302327,\n",
              "         -0.34951532,  0.32458925],\n",
              "        [-0.47081953, -0.62868   ,  0.3432132 , ..., -0.28400627,\n",
              "         -0.20963076,  0.27866927],\n",
              "        ...,\n",
              "        [ 0.7307848 , -0.04877289, -0.5014908 , ..., -0.09076641,\n",
              "         -0.61538756, -0.3116946 ],\n",
              "        [-0.0741327 , -0.46792188,  0.84568   , ..., -0.16534156,\n",
              "          0.41278556, -0.6019504 ],\n",
              "        [ 0.2240491 , -0.34904212,  0.89084506, ..., -0.32112232,\n",
              "          0.1128896 , -0.92345834]],\n",
              "\n",
              "       [[ 0.21405035,  0.29909718,  0.56868684, ...,  0.19995324,\n",
              "         -0.0549742 ,  0.00987769],\n",
              "        [-0.5444439 ,  0.22103533,  0.8894616 , ..., -0.11401828,\n",
              "         -0.30836564, -0.02269662],\n",
              "        [-0.5540963 ,  0.2623561 , -0.48202023, ...,  0.01312962,\n",
              "         -0.01970427,  0.4798233 ],\n",
              "        ...,\n",
              "        [ 0.7754224 ,  0.070295  , -0.34285927, ...,  0.05299648,\n",
              "         -0.60657096, -0.38621044],\n",
              "        [-0.02497876, -0.04416031,  0.846453  , ..., -0.1282204 ,\n",
              "          0.27960512, -0.6230528 ],\n",
              "        [ 0.11250399,  0.12471574,  1.019962  , ..., -0.29110146,\n",
              "          0.22155654, -0.7064157 ]],\n",
              "\n",
              "       [[ 0.14343901,  0.14281917, -0.06502931, ..., -0.28535438,\n",
              "          0.13633725,  0.04348172],\n",
              "        [-0.3615876 , -0.02887582,  0.49463975, ..., -0.29475415,\n",
              "          0.5252906 , -0.34646526],\n",
              "        [ 0.6448262 ,  0.21116728,  0.25457776, ..., -1.0159601 ,\n",
              "          0.45559442,  0.11569152],\n",
              "        ...,\n",
              "        [-0.14329799, -0.11545245,  0.51739633, ..., -0.24806523,\n",
              "          0.08828463, -0.8143258 ],\n",
              "        [ 0.7179091 ,  0.16992927, -0.34714016, ..., -0.31512326,\n",
              "         -0.41254568, -0.23108797],\n",
              "        [ 0.11796841, -0.00983121,  0.49090698, ...,  0.03924829,\n",
              "          0.15412915, -0.15095061]]], dtype=float32)"
            ]
          },
          "metadata": {
            "tags": []
          },
          "execution_count": 50
        }
      ]
    },
    {
      "cell_type": "code",
      "metadata": {
        "colab": {
          "base_uri": "https://localhost:8080/"
        },
        "id": "rVbkVsFZwMQp",
        "outputId": "0a7cf94b-7b71-4e4c-bdb4-e93cccc20f4a"
      },
      "source": [
        "!pip install netron"
      ],
      "execution_count": null,
      "outputs": [
        {
          "output_type": "stream",
          "text": [
            "Collecting netron\n",
            "\u001b[?25l  Downloading https://files.pythonhosted.org/packages/d3/8d/fe984efe3c90876ae9b3c62ed4fb2533fdbc02a9267dc493c6b5343cc654/netron-4.7.9-py2.py3-none-any.whl (1.4MB)\n",
            "\r\u001b[K     |▎                               | 10kB 20.9MB/s eta 0:00:01\r\u001b[K     |▌                               | 20kB 24.0MB/s eta 0:00:01\r\u001b[K     |▊                               | 30kB 27.6MB/s eta 0:00:01\r\u001b[K     |█                               | 40kB 31.1MB/s eta 0:00:01\r\u001b[K     |█▏                              | 51kB 27.6MB/s eta 0:00:01\r\u001b[K     |█▍                              | 61kB 30.0MB/s eta 0:00:01\r\u001b[K     |█▋                              | 71kB 18.0MB/s eta 0:00:01\r\u001b[K     |█▉                              | 81kB 17.8MB/s eta 0:00:01\r\u001b[K     |██                              | 92kB 19.1MB/s eta 0:00:01\r\u001b[K     |██▎                             | 102kB 18.7MB/s eta 0:00:01\r\u001b[K     |██▌                             | 112kB 18.7MB/s eta 0:00:01\r\u001b[K     |██▊                             | 122kB 18.7MB/s eta 0:00:01\r\u001b[K     |███                             | 133kB 18.7MB/s eta 0:00:01\r\u001b[K     |███▏                            | 143kB 18.7MB/s eta 0:00:01\r\u001b[K     |███▍                            | 153kB 18.7MB/s eta 0:00:01\r\u001b[K     |███▋                            | 163kB 18.7MB/s eta 0:00:01\r\u001b[K     |████                            | 174kB 18.7MB/s eta 0:00:01\r\u001b[K     |████▏                           | 184kB 18.7MB/s eta 0:00:01\r\u001b[K     |████▍                           | 194kB 18.7MB/s eta 0:00:01\r\u001b[K     |████▋                           | 204kB 18.7MB/s eta 0:00:01\r\u001b[K     |████▉                           | 215kB 18.7MB/s eta 0:00:01\r\u001b[K     |█████                           | 225kB 18.7MB/s eta 0:00:01\r\u001b[K     |█████▎                          | 235kB 18.7MB/s eta 0:00:01\r\u001b[K     |█████▌                          | 245kB 18.7MB/s eta 0:00:01\r\u001b[K     |█████▊                          | 256kB 18.7MB/s eta 0:00:01\r\u001b[K     |██████                          | 266kB 18.7MB/s eta 0:00:01\r\u001b[K     |██████▏                         | 276kB 18.7MB/s eta 0:00:01\r\u001b[K     |██████▍                         | 286kB 18.7MB/s eta 0:00:01\r\u001b[K     |██████▋                         | 296kB 18.7MB/s eta 0:00:01\r\u001b[K     |██████▉                         | 307kB 18.7MB/s eta 0:00:01\r\u001b[K     |███████                         | 317kB 18.7MB/s eta 0:00:01\r\u001b[K     |███████▎                        | 327kB 18.7MB/s eta 0:00:01\r\u001b[K     |███████▋                        | 337kB 18.7MB/s eta 0:00:01\r\u001b[K     |███████▉                        | 348kB 18.7MB/s eta 0:00:01\r\u001b[K     |████████                        | 358kB 18.7MB/s eta 0:00:01\r\u001b[K     |████████▎                       | 368kB 18.7MB/s eta 0:00:01\r\u001b[K     |████████▌                       | 378kB 18.7MB/s eta 0:00:01\r\u001b[K     |████████▊                       | 389kB 18.7MB/s eta 0:00:01\r\u001b[K     |█████████                       | 399kB 18.7MB/s eta 0:00:01\r\u001b[K     |█████████▏                      | 409kB 18.7MB/s eta 0:00:01\r\u001b[K     |█████████▍                      | 419kB 18.7MB/s eta 0:00:01\r\u001b[K     |█████████▋                      | 430kB 18.7MB/s eta 0:00:01\r\u001b[K     |█████████▉                      | 440kB 18.7MB/s eta 0:00:01\r\u001b[K     |██████████                      | 450kB 18.7MB/s eta 0:00:01\r\u001b[K     |██████████▎                     | 460kB 18.7MB/s eta 0:00:01\r\u001b[K     |██████████▌                     | 471kB 18.7MB/s eta 0:00:01\r\u001b[K     |██████████▊                     | 481kB 18.7MB/s eta 0:00:01\r\u001b[K     |███████████                     | 491kB 18.7MB/s eta 0:00:01\r\u001b[K     |███████████▏                    | 501kB 18.7MB/s eta 0:00:01\r\u001b[K     |███████████▌                    | 512kB 18.7MB/s eta 0:00:01\r\u001b[K     |███████████▊                    | 522kB 18.7MB/s eta 0:00:01\r\u001b[K     |████████████                    | 532kB 18.7MB/s eta 0:00:01\r\u001b[K     |████████████▏                   | 542kB 18.7MB/s eta 0:00:01\r\u001b[K     |████████████▍                   | 552kB 18.7MB/s eta 0:00:01\r\u001b[K     |████████████▋                   | 563kB 18.7MB/s eta 0:00:01\r\u001b[K     |████████████▉                   | 573kB 18.7MB/s eta 0:00:01\r\u001b[K     |█████████████                   | 583kB 18.7MB/s eta 0:00:01\r\u001b[K     |█████████████▎                  | 593kB 18.7MB/s eta 0:00:01\r\u001b[K     |█████████████▌                  | 604kB 18.7MB/s eta 0:00:01\r\u001b[K     |█████████████▊                  | 614kB 18.7MB/s eta 0:00:01\r\u001b[K     |██████████████                  | 624kB 18.7MB/s eta 0:00:01\r\u001b[K     |██████████████▏                 | 634kB 18.7MB/s eta 0:00:01\r\u001b[K     |██████████████▍                 | 645kB 18.7MB/s eta 0:00:01\r\u001b[K     |██████████████▋                 | 655kB 18.7MB/s eta 0:00:01\r\u001b[K     |██████████████▉                 | 665kB 18.7MB/s eta 0:00:01\r\u001b[K     |███████████████▏                | 675kB 18.7MB/s eta 0:00:01\r\u001b[K     |███████████████▍                | 686kB 18.7MB/s eta 0:00:01\r\u001b[K     |███████████████▋                | 696kB 18.7MB/s eta 0:00:01\r\u001b[K     |███████████████▉                | 706kB 18.7MB/s eta 0:00:01\r\u001b[K     |████████████████                | 716kB 18.7MB/s eta 0:00:01\r\u001b[K     |████████████████▎               | 727kB 18.7MB/s eta 0:00:01\r\u001b[K     |████████████████▌               | 737kB 18.7MB/s eta 0:00:01\r\u001b[K     |████████████████▊               | 747kB 18.7MB/s eta 0:00:01\r\u001b[K     |█████████████████               | 757kB 18.7MB/s eta 0:00:01\r\u001b[K     |█████████████████▏              | 768kB 18.7MB/s eta 0:00:01\r\u001b[K     |█████████████████▍              | 778kB 18.7MB/s eta 0:00:01\r\u001b[K     |█████████████████▋              | 788kB 18.7MB/s eta 0:00:01\r\u001b[K     |█████████████████▉              | 798kB 18.7MB/s eta 0:00:01\r\u001b[K     |██████████████████              | 808kB 18.7MB/s eta 0:00:01\r\u001b[K     |██████████████████▎             | 819kB 18.7MB/s eta 0:00:01\r\u001b[K     |██████████████████▌             | 829kB 18.7MB/s eta 0:00:01\r\u001b[K     |██████████████████▊             | 839kB 18.7MB/s eta 0:00:01\r\u001b[K     |███████████████████             | 849kB 18.7MB/s eta 0:00:01\r\u001b[K     |███████████████████▎            | 860kB 18.7MB/s eta 0:00:01\r\u001b[K     |███████████████████▌            | 870kB 18.7MB/s eta 0:00:01\r\u001b[K     |███████████████████▊            | 880kB 18.7MB/s eta 0:00:01\r\u001b[K     |████████████████████            | 890kB 18.7MB/s eta 0:00:01\r\u001b[K     |████████████████████▏           | 901kB 18.7MB/s eta 0:00:01\r\u001b[K     |████████████████████▍           | 911kB 18.7MB/s eta 0:00:01\r\u001b[K     |████████████████████▋           | 921kB 18.7MB/s eta 0:00:01\r\u001b[K     |████████████████████▉           | 931kB 18.7MB/s eta 0:00:01\r\u001b[K     |█████████████████████           | 942kB 18.7MB/s eta 0:00:01\r\u001b[K     |█████████████████████▎          | 952kB 18.7MB/s eta 0:00:01\r\u001b[K     |█████████████████████▌          | 962kB 18.7MB/s eta 0:00:01\r\u001b[K     |█████████████████████▊          | 972kB 18.7MB/s eta 0:00:01\r\u001b[K     |██████████████████████          | 983kB 18.7MB/s eta 0:00:01\r\u001b[K     |██████████████████████▏         | 993kB 18.7MB/s eta 0:00:01\r\u001b[K     |██████████████████████▍         | 1.0MB 18.7MB/s eta 0:00:01\r\u001b[K     |██████████████████████▊         | 1.0MB 18.7MB/s eta 0:00:01\r\u001b[K     |███████████████████████         | 1.0MB 18.7MB/s eta 0:00:01\r\u001b[K     |███████████████████████▏        | 1.0MB 18.7MB/s eta 0:00:01\r\u001b[K     |███████████████████████▍        | 1.0MB 18.7MB/s eta 0:00:01\r\u001b[K     |███████████████████████▋        | 1.1MB 18.7MB/s eta 0:00:01\r\u001b[K     |███████████████████████▉        | 1.1MB 18.7MB/s eta 0:00:01\r\u001b[K     |████████████████████████        | 1.1MB 18.7MB/s eta 0:00:01\r\u001b[K     |████████████████████████▎       | 1.1MB 18.7MB/s eta 0:00:01\r\u001b[K     |████████████████████████▌       | 1.1MB 18.7MB/s eta 0:00:01\r\u001b[K     |████████████████████████▊       | 1.1MB 18.7MB/s eta 0:00:01\r\u001b[K     |█████████████████████████       | 1.1MB 18.7MB/s eta 0:00:01\r\u001b[K     |█████████████████████████▏      | 1.1MB 18.7MB/s eta 0:00:01\r\u001b[K     |█████████████████████████▍      | 1.1MB 18.7MB/s eta 0:00:01\r\u001b[K     |█████████████████████████▋      | 1.1MB 18.7MB/s eta 0:00:01\r\u001b[K     |█████████████████████████▉      | 1.2MB 18.7MB/s eta 0:00:01\r\u001b[K     |██████████████████████████      | 1.2MB 18.7MB/s eta 0:00:01\r\u001b[K     |██████████████████████████▎     | 1.2MB 18.7MB/s eta 0:00:01\r\u001b[K     |██████████████████████████▋     | 1.2MB 18.7MB/s eta 0:00:01\r\u001b[K     |██████████████████████████▉     | 1.2MB 18.7MB/s eta 0:00:01\r\u001b[K     |███████████████████████████     | 1.2MB 18.7MB/s eta 0:00:01\r\u001b[K     |███████████████████████████▎    | 1.2MB 18.7MB/s eta 0:00:01\r\u001b[K     |███████████████████████████▌    | 1.2MB 18.7MB/s eta 0:00:01\r\u001b[K     |███████████████████████████▊    | 1.2MB 18.7MB/s eta 0:00:01\r\u001b[K     |████████████████████████████    | 1.2MB 18.7MB/s eta 0:00:01\r\u001b[K     |████████████████████████████▏   | 1.3MB 18.7MB/s eta 0:00:01\r\u001b[K     |████████████████████████████▍   | 1.3MB 18.7MB/s eta 0:00:01\r\u001b[K     |████████████████████████████▋   | 1.3MB 18.7MB/s eta 0:00:01\r\u001b[K     |████████████████████████████▉   | 1.3MB 18.7MB/s eta 0:00:01\r\u001b[K     |█████████████████████████████   | 1.3MB 18.7MB/s eta 0:00:01\r\u001b[K     |█████████████████████████████▎  | 1.3MB 18.7MB/s eta 0:00:01\r\u001b[K     |█████████████████████████████▌  | 1.3MB 18.7MB/s eta 0:00:01\r\u001b[K     |█████████████████████████████▊  | 1.3MB 18.7MB/s eta 0:00:01\r\u001b[K     |██████████████████████████████  | 1.3MB 18.7MB/s eta 0:00:01\r\u001b[K     |██████████████████████████████▎ | 1.4MB 18.7MB/s eta 0:00:01\r\u001b[K     |██████████████████████████████▌ | 1.4MB 18.7MB/s eta 0:00:01\r\u001b[K     |██████████████████████████████▊ | 1.4MB 18.7MB/s eta 0:00:01\r\u001b[K     |███████████████████████████████ | 1.4MB 18.7MB/s eta 0:00:01\r\u001b[K     |███████████████████████████████▏| 1.4MB 18.7MB/s eta 0:00:01\r\u001b[K     |███████████████████████████████▍| 1.4MB 18.7MB/s eta 0:00:01\r\u001b[K     |███████████████████████████████▋| 1.4MB 18.7MB/s eta 0:00:01\r\u001b[K     |███████████████████████████████▉| 1.4MB 18.7MB/s eta 0:00:01\r\u001b[K     |████████████████████████████████| 1.4MB 18.7MB/s \n",
            "\u001b[?25hInstalling collected packages: netron\n",
            "Successfully installed netron-4.7.9\n"
          ],
          "name": "stdout"
        }
      ]
    },
    {
      "cell_type": "code",
      "metadata": {
        "id": "TiYzxtoBz5mb"
      },
      "source": [
        "import netron"
      ],
      "execution_count": null,
      "outputs": []
    },
    {
      "cell_type": "code",
      "metadata": {
        "colab": {
          "base_uri": "https://localhost:8080/"
        },
        "id": "fqYt513dAKay",
        "outputId": "c19e90da-af5b-4f57-ea0b-3b20dc47779a"
      },
      "source": [
        "netron.start(file=quantized_model_path)"
      ],
      "execution_count": null,
      "outputs": [
        {
          "output_type": "stream",
          "text": [
            "Serving 'bert_base_model-quantized.onnx' at http://localhost:8081\n"
          ],
          "name": "stdout"
        },
        {
          "output_type": "execute_result",
          "data": {
            "text/plain": [
              "('localhost', 8081)"
            ]
          },
          "metadata": {
            "tags": []
          },
          "execution_count": 53
        }
      ]
    },
    {
      "cell_type": "code",
      "metadata": {
        "id": "5Ji4tPy8AQla"
      },
      "source": [
        ""
      ],
      "execution_count": null,
      "outputs": []
    },
    {
      "cell_type": "code",
      "metadata": {
        "id": "Bn3xdR5ZD5P2"
      },
      "source": [
        ""
      ],
      "execution_count": null,
      "outputs": []
    }
  ]
}